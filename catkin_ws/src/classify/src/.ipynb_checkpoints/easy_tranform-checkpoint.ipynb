{
 "cells": [
  {
   "cell_type": "code",
   "execution_count": 2,
   "metadata": {},
   "outputs": [],
   "source": [
    "import Image\n",
    "import ImageChops\n",
    "import cv2\n",
    "import sys\n",
    "import numpy as np\n",
    "import matplotlib.pyplot as plt"
   ]
  },
  {
   "cell_type": "code",
   "execution_count": 3,
   "metadata": {},
   "outputs": [],
   "source": [
    "im1 = cv2.imread(\"/home/joinet/Downloads/img1.jpg\")\n",
    "im2 = cv2.imread(\"/home/joinet/Downloads/img2.jpg\")\n",
    "img1 = Image.open(\"/home/joinet/Downloads/img1.jpg\")\n",
    "img2 = Image.open(\"/home/joinet/Downloads/img2.jpg\")"
   ]
  },
  {
   "cell_type": "code",
   "execution_count": 4,
   "metadata": {},
   "outputs": [],
   "source": [
    "im1_gray = cv2.cvtColor(im1,cv2.COLOR_BGR2GRAY)\n",
    "im2_gray = cv2.cvtColor(im2,cv2.COLOR_BGR2GRAY)"
   ]
  },
  {
   "cell_type": "code",
   "execution_count": 5,
   "metadata": {},
   "outputs": [
    {
     "name": "stdout",
     "output_type": "stream",
     "text": [
      "[[ 1.          0.          5.62421513]\n",
      " [ 0.          1.          0.5425427 ]]\n"
     ]
    }
   ],
   "source": [
    "sz = im1.shape\n",
    "# Define the motion model\n",
    "warp_mode = cv2.MOTION_TRANSLATION\n",
    "\n",
    "# Define 2x3 or 3x3 matrices and initialize the matrix to identity\n",
    "if warp_mode == cv2.MOTION_HOMOGRAPHY :\n",
    "    warp_matrix = np.eye(3, 3, dtype=np.float32)\n",
    "else :\n",
    "    warp_matrix = np.eye(2, 3, dtype=np.float32)\n",
    "# Specify the number of iterations.\n",
    "number_of_iterations = 50000\n",
    " \n",
    "# Specify the threshold of the increment\n",
    "# in the correlation coefficient between two iterations\n",
    "termination_eps = 1e-10\n",
    "\n",
    "# Define termination criteria\n",
    "criteria = (cv2.TERM_CRITERIA_EPS | cv2.TERM_CRITERIA_COUNT, number_of_iterations,  termination_eps)\n",
    " \n",
    "# Run the ECC algorithm. The results are stored in warp_matrix.\n",
    "(cc, warp_matrix) = cv2.findTransformECC (im1_gray,im2_gray,warp_matrix, warp_mode, criteria)\n",
    "print warp_matrix\n",
    "if warp_mode == cv2.MOTION_HOMOGRAPHY :\n",
    "    # Use warpPerspective for Homography \n",
    "    im2_aligned = cv2.warpPerspective (im2, warp_matrix, (sz[1],sz[0]), flags=cv2.INTER_LINEAR + cv2.WARP_INVERSE_MAP)\n",
    "else :\n",
    "    # Use warpAffine for Translation, Euclidean and Affine\n",
    "    im2_aligned = cv2.warpAffine(im2, warp_matrix, (sz[1],sz[0]), flags=cv2.INTER_LINEAR + cv2.WARP_INVERSE_MAP);\n",
    " "
   ]
  },
  {
   "cell_type": "code",
   "execution_count": 5,
   "metadata": {},
   "outputs": [],
   "source": [
    "vis = np.concatenate((img2, im2_aligned), axis=0)"
   ]
  },
  {
   "cell_type": "code",
   "execution_count": 6,
   "metadata": {},
   "outputs": [
    {
     "data": {
      "text/plain": [
       "True"
      ]
     },
     "execution_count": 6,
     "metadata": {},
     "output_type": "execute_result"
    }
   ],
   "source": [
    "'''cv2.imshow(\"Image 1\", im1)\n",
    "cv2.imshow(\"Image 2\", im2)\n",
    "cv2.imshow(\"Aligned Image 2\", vis)\n",
    "cv2.waitKey(0)'''\n",
    "cv2.imwrite('/home/joinet/Downloads/align.jpg',im2_aligned)"
   ]
  },
  {
   "cell_type": "code",
   "execution_count": 66,
   "metadata": {},
   "outputs": [
    {
     "data": {
      "image/png": "[encoded data removed]",
      "text/plain": [
       "<Figure size 432x288 with 2 Axes>"
      ]
     },
     "metadata": {},
     "output_type": "display_data"
    },
    {
     "data": {
      "text/plain": [
       "\"cv2.imshow('image',img2)\\ncv2.waitKey(0)\\ncv2.destroyAllWindows()\""
      ]
     },
     "execution_count": 66,
     "metadata": {},
     "output_type": "execute_result"
    }
   ],
   "source": [
    "plt.subplot(121),plt.imshow(im1_gray),plt.title('Input')\n",
    "plt.subplot(122),plt.imshow(im2_gray),plt.title('Output')\n",
    "plt.show()\n",
    "'''cv2.imshow('image',img2)\n",
    "cv2.waitKey(0)\n",
    "cv2.destroyAllWindows()'''\n"
   ]
  },
  {
   "cell_type": "code",
   "execution_count": 65,
   "metadata": {},
   "outputs": [
    {
     "data": {
      "image/png": "[encoded data removed]",
      "text/plain": [
       "<Figure size 432x288 with 1 Axes>"
      ]
     },
     "metadata": {},
     "output_type": "display_data"
    },
    {
     "data": {
      "text/plain": [
       "\"cv2.imshow('image',img2)\\ncv2.waitKey(0)\\ncv2.destroyAllWindows()\""
      ]
     },
     "execution_count": 65,
     "metadata": {},
     "output_type": "execute_result"
    }
   ],
   "source": [
    "plt.subplot(122),plt.imshow(im2_aligned),plt.title('Align')\n",
    "plt.show()\n",
    "'''cv2.imshow('image',img2)\n",
    "cv2.waitKey(0)\n",
    "cv2.destroyAllWindows()'''\n"
   ]
  },
  {
   "cell_type": "code",
   "execution_count": null,
   "metadata": {},
   "outputs": [],
   "source": []
  }
 ],
 "metadata": {
  "kernelspec": {
   "display_name": "Python 2",
   "language": "python",
   "name": "python2"
  },
  "language_info": {
   "codemirror_mode": {
    "name": "ipython",
    "version": 2
   },
   "file_extension": ".py",
   "mimetype": "text/x-python",
   "name": "python",
   "nbconvert_exporter": "python",
   "pygments_lexer": "ipython2",
   "version": "2.7.12"
  }
 },
 "nbformat": 4,
 "nbformat_minor": 2
}
