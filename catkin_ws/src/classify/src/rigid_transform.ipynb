{
 "cells": [
  {
   "cell_type": "code",
   "execution_count": 64,
   "metadata": {},
   "outputs": [
    {
     "name": "stdout",
     "output_type": "stream",
     "text": [
      "Aligning images ...\n",
      "[[ 0.99935614 -0.01952113  8.00599405]\n",
      " [ 0.01509791  0.9974613  -4.96633794]]\n"
     ]
    }
   ],
   "source": [
    "from __future__ import print_function\n",
    "import cv2\n",
    "import numpy as np\n",
    " \n",
    " \n",
    "MAX_FEATURES = 500\n",
    "GOOD_MATCH_PERCENT = 0.15\n",
    " \n",
    " \n",
    "def alignImages(im1, im2):\n",
    " \n",
    "  # Convert images to grayscale\n",
    "  im1Gray = cv2.cvtColor(im1, cv2.COLOR_BGR2GRAY)\n",
    "  im2Gray = cv2.cvtColor(im2, cv2.COLOR_BGR2GRAY)\n",
    "   \n",
    "  # Detect ORB features and compute descriptors.\n",
    "  orb = cv2.ORB_create(MAX_FEATURES)\n",
    "  keypoints1, descriptors1 = orb.detectAndCompute(im1Gray, None)\n",
    "  keypoints2, descriptors2 = orb.detectAndCompute(im2Gray, None)\n",
    "   \n",
    "  # Match features.\n",
    "  matcher = cv2.DescriptorMatcher_create(cv2.DESCRIPTOR_MATCHER_BRUTEFORCE_HAMMING)\n",
    "  matches = matcher.match(descriptors1, descriptors2, None)\n",
    "   \n",
    "  # Sort matches by score\n",
    "  matches.sort(key=lambda x: x.distance, reverse=False)\n",
    " \n",
    "  # Remove not so good matches\n",
    "  numGoodMatches = int(len(matches) * GOOD_MATCH_PERCENT)\n",
    "  matches = matches[:numGoodMatches]\n",
    " \n",
    "  # Draw top matches\n",
    "  imMatches = cv2.drawMatches(im1, keypoints1, im2, keypoints2, matches, None)\n",
    "  cv2.imwrite(\"/home/joinet/Downloads/matches.jpg\", imMatches)\n",
    "\n",
    "   \n",
    "  # Extract location of good matches\n",
    "  points1 = np.zeros((len(matches), 2), dtype=np.float32)\n",
    "  points2 = np.zeros((len(matches), 2), dtype=np.float32)\n",
    " \n",
    "  for i, match in enumerate(matches):\n",
    "    points1[i, :] = keypoints1[match.queryIdx].pt\n",
    "    points2[i, :] = keypoints2[match.trainIdx].pt\n",
    "   \n",
    "  # Find homography\n",
    "  h, mask = cv2.findHomography(points1, points2, cv2.RANSAC)\n",
    "  M = cv2.estimateRigidTransform(points1, points2, True)\n",
    "  # Use homography\n",
    "  height, width, channels = im2.shape\n",
    "  im1Reg = cv2.warpPerspective(im1, h, (width, height))\n",
    "   \n",
    "  return im1Reg, h, M\n",
    " \n",
    " \n",
    "if __name__ == '__main__':\n",
    "   \n",
    "  # Read reference image\n",
    "  img1 = cv2.imread(\"/home/joinet/pcl/old.jpg\", cv2.IMREAD_COLOR)\n",
    "\n",
    "  # Read image to be aligned\n",
    "  img2 = cv2.imread(\"/home/joinet/pcl/new.jpg\", cv2.IMREAD_COLOR)\n",
    "\n",
    "  # Blur image\n",
    "  #kernel = np.ones((5,5),np.float32)/25\n",
    "  #img1 = cv2.filter2D(img1,-1,kernel)\n",
    "  #img2 = cv2.filter2D(img2,-1,kernel)\n",
    "   \n",
    "  print(\"Aligning images ...\")\n",
    "  # Registered image will be resotred in imReg. \n",
    "  # The estimated homography will be stored in h. \n",
    "  img_homo, h, M = alignImages(img1, img2)\n",
    "  #print(h)\n",
    "  print(M)\n",
    "\n",
    "  # Write aligned image to disk. \n",
    "  cv2.imwrite(\"/home/joinet/Downloads/img_homo.jpg\", img_homo)\n",
    "  homo_add = cv2.add(img2, img_homo) \n",
    "  cv2.imwrite(\"/home/joinet/Downloads/homo_add.jpg\", homo_add)\n",
    "    \n",
    "    \n",
    "  \n",
    "  rows,cols,c = img2.shape\n",
    "  #img_rigid = cv2.warpAffine(img1, M, (cols,rows))\n",
    "  #cv2.imwrite(\"/home/joinet/Downloads/img_rigid.jpg\", img_rigid)\n",
    "  '''\n",
    "  vis = cv2.add(im, dst) \n",
    "  cv2.imwrite(\"/home/joinet/Downloads/result.jpg\", dst)'''"
   ]
  },
  {
   "cell_type": "code",
   "execution_count": 51,
   "metadata": {},
   "outputs": [
    {
     "data": {
      "image/png": "[encoded data removed]",
      "text/plain": [
       "<Figure size 432x288 with 1 Axes>"
      ]
     },
     "metadata": {},
     "output_type": "display_data"
    }
   ],
   "source": [
    "import matplotlib.pyplot as plt\n",
    "imm = np.zeros((int(10), int(12), 3), np.uint8)\n",
    "\n",
    "imm[5][8] = (255, 255, 255)\n",
    "im1Gray = cv2.cvtColor(imm, cv2.COLOR_BGR2GRAY)\n",
    "#imgplot = plt.imshow(imm)\n",
    "imgpl = plt.imshow(im1Gray)"
   ]
  },
  {
   "cell_type": "code",
   "execution_count": null,
   "metadata": {},
   "outputs": [],
   "source": []
  }
 ],
 "metadata": {
  "kernelspec": {
   "display_name": "Python 2",
   "language": "python",
   "name": "python2"
  },
  "language_info": {
   "codemirror_mode": {
    "name": "ipython",
    "version": 2
   },
   "file_extension": ".py",
   "mimetype": "text/x-python",
   "name": "python",
   "nbconvert_exporter": "python",
   "pygments_lexer": "ipython2",
   "version": "2.7.12"
  }
 },
 "nbformat": 4,
 "nbformat_minor": 2
}
