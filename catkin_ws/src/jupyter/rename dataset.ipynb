{
 "cells": [
  {
   "cell_type": "code",
   "execution_count": 1,
   "metadata": {},
   "outputs": [],
   "source": [
    "import os"
   ]
  },
  {
   "cell_type": "code",
   "execution_count": 2,
   "metadata": {},
   "outputs": [],
   "source": [
    "path = \"/media/arg_ws3/5E703E3A703E18EB/data/real_box/Scene0\""
   ]
  },
  {
   "cell_type": "code",
   "execution_count": 6,
   "metadata": {},
   "outputs": [
    {
     "data": {
      "text/plain": [
       "'original'"
      ]
     },
     "execution_count": 6,
     "metadata": {},
     "output_type": "execute_result"
    }
   ],
   "source": [
    "s = \"0_original.png\"\n",
    "which_type = s.replace('_', '.').split('.')[-2]\n",
    "which_type"
   ]
  },
  {
   "cell_type": "code",
   "execution_count": 7,
   "metadata": {},
   "outputs": [],
   "source": [
    "img_list = os.listdir(path)\n",
    "for img in img_list:\n",
    "    if img.replace('_', '.').split('.')[-2] != 'original':\n",
    "        os.remove(path+'/'+img)"
   ]
  },
  {
   "cell_type": "code",
   "execution_count": 14,
   "metadata": {},
   "outputs": [],
   "source": [
    "V_path = \"/media/arg_ws3/5E703E3A703E18EB/data/MM_sem/virtual\""
   ]
  },
  {
   "cell_type": "code",
   "execution_count": 15,
   "metadata": {},
   "outputs": [],
   "source": [
    "V_A_folder = \"/media/arg_ws3/5E703E3A703E18EB/data/MM_sem/A\"\n",
    "V_B_folder = \"/media/arg_ws3/5E703E3A703E18EB/data/MM_sem/B\""
   ]
  },
  {
   "cell_type": "code",
   "execution_count": 16,
   "metadata": {},
   "outputs": [],
   "source": [
    "V_f = os.listdir(V_path)"
   ]
  },
  {
   "cell_type": "code",
   "execution_count": 17,
   "metadata": {},
   "outputs": [],
   "source": [
    "def remove_rename_Vdata(img_data, path):\n",
    "    for img in img_data:\n",
    "        name_split = img.replace('_', '.').split('.')\n",
    "        if name_split[1] == \"original\":\n",
    "            img_path = path + \"/\" + img\n",
    "            path_split = path.split('/')\n",
    "            new_name = path_split[-2] + \"_\" + path_split[-1] + \"_\" + img\n",
    "            new_path = V_A_folder + \"/\" + new_name\n",
    "            os.rename(img_path, new_path)\n",
    "        \n",
    "        elif name_split[1] == \"seg\":\n",
    "            img_path = path + \"/\" + img\n",
    "            path_split = path.split('/')\n",
    "            new_name = path_split[-2] + \"_\" + path_split[-1] + \"_\" + img\n",
    "            new_path = V_B_folder + \"/\" + new_name\n",
    "            os.rename(img_path, new_path)\n",
    "            \n",
    "        else:\n",
    "            img_path = path + \"/\" + img\n",
    "            if os.path.isfile(img_path):\n",
    "                os.remove(img_path)\n",
    "        \n",
    "def process_Vdata(v_f):\n",
    "    for V_f_ in v_f:\n",
    "        ch_path = V_path + \"/\" + V_f_\n",
    "        ch_f = os.listdir(ch_path)\n",
    "        for ch_f_ in ch_f:\n",
    "            ch_ch_f_path = ch_path + \"/\" + ch_f_\n",
    "            img_data = os.listdir(ch_ch_f_path)\n",
    "            remove_rename_Vdata(img_data, ch_ch_f_path)"
   ]
  },
  {
   "cell_type": "code",
   "execution_count": 18,
   "metadata": {},
   "outputs": [],
   "source": [
    "process_Vdata(V_f)"
   ]
  },
  {
   "cell_type": "code",
   "execution_count": 60,
   "metadata": {},
   "outputs": [],
   "source": [
    "def mv_virtual():\n",
    "    for V_f_ in V_f:\n",
    "        ch_path = V_path + \"/\" + V_f_\n",
    "        ch_f = os.listdir(ch_path)\n",
    "        for ch_f_ in ch_f:\n",
    "            ch_ch_f_path = ch_path + \"/\" + ch_f_\n",
    "            img_data = os.listdir(ch_ch_f_path)\n",
    "            for img in img_data:\n",
    "                new_img = B_folder + \"/\" + img\n",
    "                orig_img = ch_ch_f_path + \"/\" + img\n",
    "                os.rename(orig_img, new_img)"
   ]
  },
  {
   "cell_type": "code",
   "execution_count": 86,
   "metadata": {},
   "outputs": [],
   "source": [
    "def rename_real(img_data, path):\n",
    "    for img in img_data:\n",
    "        name_split = img.replace('_', '.').split('.')\n",
    "        img_path = path + \"/\" + img\n",
    "        path_split = path.split('/')\n",
    "        new_name = path_split[-2] + \"_\" + path_split[-1] + \"_\" + img\n",
    "        new_path = path + \"/\" + new_name\n",
    "        if not os.path.isdir(img_path):\n",
    "            os.rename(img_path, new_path)"
   ]
  },
  {
   "cell_type": "code",
   "execution_count": 87,
   "metadata": {},
   "outputs": [],
   "source": [
    "def mv_real(v_f):\n",
    "    for V_f_ in v_f:\n",
    "        ch_path = V_path + \"/\" + V_f_\n",
    "        ch_f = os.listdir(ch_path)\n",
    "        for ch_f_ in ch_f:\n",
    "            ch_ch_f_path = ch_path + \"/\" + ch_f_\n",
    "            img_data = os.listdir(ch_ch_f_path)\n",
    "            rename_real(img_data, ch_ch_f_path)"
   ]
  },
  {
   "cell_type": "code",
   "execution_count": 89,
   "metadata": {},
   "outputs": [
    {
     "name": "stdout",
     "output_type": "stream",
     "text": [
      "['3m', 'andes', 'cocacola', 'crayola', 'folgers', 'heineken', 'hunts', 'kellogg', 'kleenex', 'kotex', 'libava', 'macadamia', 'milo', 'mm', 'pocky', 'raisins', 'stax', 'swissmiss', 'vanish', 'viva']\n"
     ]
    }
   ],
   "source": [
    "V_path = \"/media/arg_ws3/5E703E3A703E18EB/data/MM/img\"\n",
    "A_folder = \"/media/arg_ws3/5E703E3A703E18EB/data/MM/A\"\n",
    "V_f = os.listdir(V_path)\n",
    "print(V_f)"
   ]
  },
  {
   "cell_type": "code",
   "execution_count": 91,
   "metadata": {},
   "outputs": [],
   "source": [
    "def mv2A(v_f):\n",
    "    for V_f_ in v_f:\n",
    "        ch_path = V_path + \"/\" + V_f_\n",
    "        ch_f = os.listdir(ch_path)\n",
    "        for ch_f_ in ch_f:\n",
    "            ch_ch_f_path = ch_path + \"/\" + ch_f_\n",
    "            img_data = os.listdir(ch_ch_f_path)\n",
    "            for img in img_data:\n",
    "                new_img = A_folder + \"/\" + img\n",
    "                orig_img = ch_ch_f_path + \"/\" + img\n",
    "                if not os.path.isdir(orig_img):\n",
    "                    os.rename(orig_img, new_img)"
   ]
  },
  {
   "cell_type": "code",
   "execution_count": 95,
   "metadata": {},
   "outputs": [
    {
     "data": {
      "text/plain": [
       "40320"
      ]
     },
     "execution_count": 95,
     "metadata": {},
     "output_type": "execute_result"
    }
   ],
   "source": [
    "len(os.listdir(A_folder))\n",
    "len(os.listdir(B_folder))"
   ]
  },
  {
   "cell_type": "code",
   "execution_count": 2,
   "metadata": {},
   "outputs": [
    {
     "data": {
      "text/plain": [
       "2"
      ]
     },
     "execution_count": 2,
     "metadata": {},
     "output_type": "execute_result"
    }
   ],
   "source": [
    "import random\n",
    "random.randint(0, 2)"
   ]
  },
  {
   "cell_type": "code",
   "execution_count": 4,
   "metadata": {},
   "outputs": [],
   "source": [
    "def data_split(orig_path, train_path, test_path, ratio):\n",
    "    data = os.listdir(orig_path)\n",
    "    data_num = len(data)\n",
    "    train_num = int(data_num * ratio)\n",
    "    counter = 0\n",
    "    pick_list = []\n",
    "    while counter < (data_num):\n",
    "        idx = random.randint(0, data_num-1)\n",
    "        if idx not in pick_list:\n",
    "            pick_list.append(idx)\n",
    "            img_path = orig_path + \"/\" + data[idx]\n",
    "            new_train_path = train_path + \"/\" + data[idx]\n",
    "            new_test_path = test_path + \"/\" + data[idx]\n",
    "            if counter < train_num:\n",
    "                os.rename(img_path, new_train_path)\n",
    "            else:\n",
    "                os.rename(img_path, new_test_path)\n",
    "            counter = counter + 1"
   ]
  },
  {
   "cell_type": "code",
   "execution_count": 6,
   "metadata": {},
   "outputs": [],
   "source": [
    "data_split(\"/media/arg_ws3/5E703E3A703E18EB/data/MM_BOX/B\", \"/media/arg_ws3/5E703E3A703E18EB/data/MM_BOX/train/B\", \"/media/arg_ws3/5E703E3A703E18EB/data/MM_BOX/test/B\", 0.9)"
   ]
  },
  {
   "cell_type": "code",
   "execution_count": 34,
   "metadata": {},
   "outputs": [],
   "source": [
    "def move_folder(orig_path, new_path):\n",
    "    data_list = os.listdir(orig_path)\n",
    "    for data in data_list:\n",
    "        orig_data = orig_path + \"/\" + data\n",
    "        new_data = new_path + \"/\" + data\n",
    "        os.rename(orig_data, new_data)"
   ]
  },
  {
   "cell_type": "code",
   "execution_count": 36,
   "metadata": {},
   "outputs": [],
   "source": [
    "move_folder(\"/media/arg_ws3/5E703E3A703E18EB/data/MM_sem/train/A\", \"/media/arg_ws3/5E703E3A703E18EB/data/MM_sem/A\")"
   ]
  }
 ],
 "metadata": {
  "kernelspec": {
   "display_name": "Python 3",
   "language": "python",
   "name": "python3"
  },
  "language_info": {
   "codemirror_mode": {
    "name": "ipython",
    "version": 3
   },
   "file_extension": ".py",
   "mimetype": "text/x-python",
   "name": "python",
   "nbconvert_exporter": "python",
   "pygments_lexer": "ipython3",
   "version": "3.5.2"
  }
 },
 "nbformat": 4,
 "nbformat_minor": 2
}
