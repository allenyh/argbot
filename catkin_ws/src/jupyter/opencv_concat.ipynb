{
 "cells": [
  {
   "cell_type": "code",
   "execution_count": 18,
   "metadata": {},
   "outputs": [],
   "source": [
    "import cv2\n",
    "import os\n",
    "import numpy as np\n",
    "from PIL import Image"
   ]
  },
  {
   "cell_type": "code",
   "execution_count": 2,
   "metadata": {},
   "outputs": [
    {
     "name": "stdout",
     "output_type": "stream",
     "text": [
      "(480, 640, 3)\n"
     ]
    }
   ],
   "source": [
    "img_orig = cv2.imread('3m_Scene0_0_original.png')\n",
    "img_seg = cv2.imread('3m_Scene0_0_seg.png')\n",
    "print(img_orig.shape)\n",
    "vis = np.concatenate((img_orig, img_seg), axis=1)"
   ]
  },
  {
   "cell_type": "code",
   "execution_count": 10,
   "metadata": {},
   "outputs": [],
   "source": [
    "folder = \"/media/arg_ws3/5E703E3A703E18EB/data/MM_sem/data\"\n",
    "A_folder = \"/media/arg_ws3/5E703E3A703E18EB/data/MM_sem/A\"\n",
    "B_folder = \"/media/arg_ws3/5E703E3A703E18EB/data/MM_sem/B\"\n",
    "C_folder = \"/media/arg_ws3/5E703E3A703E18EB/data/MM_sem/data\""
   ]
  },
  {
   "cell_type": "code",
   "execution_count": 11,
   "metadata": {},
   "outputs": [],
   "source": [
    "def img_concat(A_folder, B_folder, C_folder):\n",
    "    A_data_list = os.listdir(A_folder)\n",
    "    for A_data_name in A_data_list:\n",
    "        A_name = A_folder + \"/\" + A_data_name\n",
    "        name_split = A_data_name.split(\"_\")\n",
    "        B_name = \"\"\n",
    "        for name in name_split[:-1]:\n",
    "            B_name = B_name + name + \"_\"\n",
    "        concat_name = C_folder + \"/\" + B_name + \"con.png\"\n",
    "        B_name = B_folder + \"/\" + B_name + \"seg.png\"\n",
    "        img_orig = cv2.imread(A_name)\n",
    "        img_seg = cv2.imread(B_name)\n",
    "        concat = np.concatenate((img_orig, img_seg), axis=1)\n",
    "        cv2.imwrite(concat_name, concat)"
   ]
  },
  {
   "cell_type": "code",
   "execution_count": 12,
   "metadata": {},
   "outputs": [],
   "source": [
    "img_concat(A_folder, B_folder, C_folder)"
   ]
  },
  {
   "cell_type": "code",
   "execution_count": null,
   "metadata": {},
   "outputs": [],
   "source": []
  },
  {
   "cell_type": "code",
   "execution_count": 17,
   "metadata": {},
   "outputs": [
    {
     "name": "stdout",
     "output_type": "stream",
     "text": [
      "(480, 1280, 3)\n",
      "(256, 512, 3)\n"
     ]
    }
   ],
   "source": [
    "print(cv2.imread(\"/media/arg_ws3/5E703E3A703E18EB/data/MM_sem/val/viva_Scene9_79_con.png\").shape)\n",
    "print(cv2.imread(\"2.jpg\").shape)"
   ]
  },
  {
   "cell_type": "code",
   "execution_count": 39,
   "metadata": {},
   "outputs": [
    {
     "data": {
      "text/plain": [
       "16"
      ]
     },
     "execution_count": 39,
     "metadata": {},
     "output_type": "execute_result"
    }
   ],
   "source": [
    "256//2**4"
   ]
  }
 ],
 "metadata": {
  "kernelspec": {
   "display_name": "Python 3",
   "language": "python",
   "name": "python3"
  },
  "language_info": {
   "codemirror_mode": {
    "name": "ipython",
    "version": 3
   },
   "file_extension": ".py",
   "mimetype": "text/x-python",
   "name": "python",
   "nbconvert_exporter": "python",
   "pygments_lexer": "ipython3",
   "version": "3.5.2"
  }
 },
 "nbformat": 4,
 "nbformat_minor": 2
}
