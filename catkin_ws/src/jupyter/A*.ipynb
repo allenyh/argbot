{
 "cells": [
  {
   "cell_type": "code",
   "execution_count": 20,
   "metadata": {},
   "outputs": [],
   "source": [
    "class Node():\n",
    "    \"\"\"A node class for A* Pathfinding\"\"\"\n",
    "\n",
    "    def __init__(self, parent=None, position=None):\n",
    "        self.parent = parent\n",
    "        self.position = position\n",
    "\n",
    "        self.g = 0\n",
    "        self.h = 0\n",
    "        self.f = 0\n",
    "\n",
    "    def __eq__(self, other):\n",
    "        return self.position == other.position\n",
    "\n",
    "\n",
    "class AStar():\n",
    "    \"\"\"Returns a list of tuples as a path from the given start to the given end in the given maze\"\"\"\n",
    "    def __init__(self, maze, start, end):\n",
    "        # Create start and end node\n",
    "        self.start_node = Node(None, start)\n",
    "        self.end_node = Node(None, end)\n",
    "\n",
    "        # Initialize both open and closed list\n",
    "        self.open_list = []\n",
    "        self.closed_list = []\n",
    "\n",
    "        # Add the start node\n",
    "        self.open_list.append(self.start_node)\n",
    "        \n",
    "        # Define map\n",
    "        self.maze = maze\n",
    "        \n",
    "    def planning(self):\n",
    "        # Loop until you find the end\n",
    "        while len(self.open_list) > 0:\n",
    "            # Get the current node\n",
    "            current_node = self.open_list[0]\n",
    "            current_index = 0\n",
    "            for index, item in enumerate(self.open_list):\n",
    "                if item.f < current_node.f:\n",
    "                    current_node = item\n",
    "                    current_index = index\n",
    "\n",
    "            # Pop current off open list, add to closed list\n",
    "            self.open_list.pop(current_index)\n",
    "            self.closed_list.append(current_node)\n",
    "\n",
    "            # Found the goal\n",
    "            if current_node == self.end_node:\n",
    "                path = []\n",
    "                current = current_node\n",
    "                while current is not None:\n",
    "                    path.append(current.position)\n",
    "                    current = current.parent\n",
    "                return path[::-1] # Return reversed path\n",
    "\n",
    "            # Generate children\n",
    "            children = []\n",
    "            for new_position in [(0, -1), (0, 1), (-1, 0), (1, 0), (-1, -1), (-1, 1), (1, -1), (1, 1)]: # Adjacent squares\n",
    "\n",
    "                # Get node position\n",
    "                node_position = (current_node.position[0] + new_position[0], current_node.position[1] + new_position[1])\n",
    "\n",
    "                # Make sure within range\n",
    "                if node_position[0] > (len(self.maze) - 1) or node_position[0] < 0 or node_position[1] > (len(self.maze[len(self.maze)-1]) -1) or node_position[1] < 0:\n",
    "                    continue\n",
    "\n",
    "                # Make sure walkable terrain\n",
    "                if self.maze[node_position[0]][node_position[1]] != 0:\n",
    "                    continue\n",
    "\n",
    "                # Create new node\n",
    "                new_node = Node(current_node, node_position)\n",
    "\n",
    "                # Append\n",
    "                children.append(new_node)\n",
    "\n",
    "            # Loop through children\n",
    "            for child in children:\n",
    "\n",
    "                # Child is on the closed list\n",
    "                for closed_child in self.closed_list:\n",
    "                    if child == closed_child:\n",
    "                        continue\n",
    "\n",
    "                # Create the f, g, and h values\n",
    "                child.g = current_node.g + 1\n",
    "                child.h = ((child.position[0] - self.end_node.position[0]) ** 2) + ((child.position[1] - self.end_node.position[1]) ** 2)\n",
    "                child.f = child.g + child.h\n",
    "\n",
    "                # Child is already in the open list\n",
    "                for open_node in self.open_list:\n",
    "                    if child == open_node and child.g > open_node.g:\n",
    "                        continue\n",
    "\n",
    "                # Add the child to the open list\n",
    "                self.open_list.append(child)"
   ]
  },
  {
   "cell_type": "code",
   "execution_count": 32,
   "metadata": {},
   "outputs": [
    {
     "name": "stdout",
     "output_type": "stream",
     "text": [
      "(10, 10)\n"
     ]
    }
   ],
   "source": [
    "import numpy as np\n",
    "maze = np.array([[0.,0.,0.,0.,0.,0.,0.,0.,0.,0.],\n",
    " [0.,100.,100.,100.,100.,100.,100.,100.,100.,100.],\n",
    " [0.,100.,100.,100.,100.,100.,100.,100.,100.,100.],\n",
    " [0.,0.,0.,0.,0.,0.,0.,0.,0.,0.],\n",
    " [0.,0.,0.,0.,0.,0.,0.,0.,0.,0.],\n",
    " [0.,0.,0.,0.,0.,0.,0.,0.,0.,0.],\n",
    " [0.,0.,0.,0.,0.,0.,0.,0.,0.,0.],\n",
    " [0.,100.,100.,100.,100.,100.,100.,100.,100.,100.],\n",
    " [0.,0.,0.,0.,0.,0.,0.,0.,0.,0.],\n",
    " [0.,0.,0.,0.,0.,0.,0.,0.,0.,0.]])\n",
    "\n",
    "\n",
    "print(maze.shape)"
   ]
  },
  {
   "cell_type": "code",
   "execution_count": 33,
   "metadata": {},
   "outputs": [
    {
     "name": "stdout",
     "output_type": "stream",
     "text": [
      "[(6, 5), (7, 5)]\n"
     ]
    }
   ],
   "source": [
    "\n",
    "map = np.array([[0, 0, 0, 0, 1, 0, 0, 0, 0, 0],\n",
    "            [0, 0, 0, 0, 1, 0, 0, 0, 0, 0],\n",
    "            [0, 0, 0, 0, 1, 0, 0, 0, 0, 0],\n",
    "            [0, 0, 0, 0, 1, 0, 0, 0, 0, 0],\n",
    "            [0, 0, 0, 0, 1, 0, 0, 0, 0, 0],\n",
    "            [0, 0, 0, 0, 0, 0, 0, 0, 0, 0],\n",
    "            [0, 0, 0, 0, 1, 0, 0, 0, 0, 0],\n",
    "            [0, 0, 0, 0, 1, 0, 0, 0, 0, 0],\n",
    "            [0, 0, 0, 0, 1, 0, 0, 0, 0, 0],\n",
    "            [0, 0, 0, 0, 0, 0, 0, 0, 0, 0]])\n",
    "\n",
    "start = (6, 5)\n",
    "end = (7, 5)\n",
    "astar = AStar(maze, start, end)\n",
    "print(astar.planning())"
   ]
  },
  {
   "cell_type": "code",
   "execution_count": 42,
   "metadata": {},
   "outputs": [
    {
     "name": "stdout",
     "output_type": "stream",
     "text": [
      "[1 2] [8 2]\n"
     ]
    }
   ],
   "source": [
    "a = np.array([1,2])\n",
    "b = np.copy(a)\n",
    "b[0] = 8\n",
    "print(a, b)"
   ]
  }
 ],
 "metadata": {
  "kernelspec": {
   "display_name": "Python 3",
   "language": "python",
   "name": "python3"
  },
  "language_info": {
   "codemirror_mode": {
    "name": "ipython",
    "version": 3
   },
   "file_extension": ".py",
   "mimetype": "text/x-python",
   "name": "python",
   "nbconvert_exporter": "python",
   "pygments_lexer": "ipython3",
   "version": "3.5.2"
  }
 },
 "nbformat": 4,
 "nbformat_minor": 2
}
