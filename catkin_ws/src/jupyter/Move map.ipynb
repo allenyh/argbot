{
 "cells": [
  {
   "cell_type": "code",
   "execution_count": 1,
   "metadata": {},
   "outputs": [
    {
     "data": {
      "text/plain": [
       "\"new_map = np.stack((new_map,)*3, axis=2)\\nimg = cv2.imread('/home/david/Downloads/6oB6V.jpg')\\nprint(new_map.shape, img.shape)\\nnew_map = new_map.astype(np.uint8)\\nprint(img[120][120].dtype, new_map[7, 1].dtype)\\n\""
      ]
     },
     "execution_count": 1,
     "metadata": {},
     "output_type": "execute_result"
    }
   ],
   "source": [
    "#new_map = np.expand_dims(global_map, axis=0)\n",
    "#new_map = np.swapaxes(new_map,0,2)\n",
    "#new_map = np.swapaxes(new_map,0,1)\n",
    "#new_map = global_map.copy()\n",
    "#new_map = new_map.astype(np.uint8)\n",
    "'''new_map = np.stack((new_map,)*3, axis=2)\n",
    "img = cv2.imread('/home/david/Downloads/6oB6V.jpg')\n",
    "print(new_map.shape, img.shape)\n",
    "new_map = new_map.astype(np.uint8)\n",
    "print(img[120][120].dtype, new_map[7, 1].dtype)\n",
    "'''"
   ]
  },
  {
   "cell_type": "code",
   "execution_count": 5,
   "metadata": {},
   "outputs": [],
   "source": [
    "import numpy as np\n",
    "import cv2\n",
    "import matplotlib.pyplot as plt\n",
    "import imutils\n",
    "%matplotlib inline"
   ]
  },
  {
   "cell_type": "code",
   "execution_count": 6,
   "metadata": {},
   "outputs": [],
   "source": [
    "global_map = [\\\n",
    "[0, 0, 0, 0, 0, 0, 0, 0, 0, 0, 0, 0, 0, 0, 0, 0, 0, 0, 0, 0],\\\n",
    "[0, 0, 0, 0, 0, 0, 0, 0, 0, 0, 0, 0, 0, 0, 0, 0, 0, 1, 0, 0],\\\n",
    "[0, 0, 0, 1, 1, 1, 1, 1, 0, 0, 0, 0, 0, 0, 0, 0, 0, 1, 0, 0],\\\n",
    "[0, 0, 0, 0, 0, 0, 0, 1, 0, 0, 0, 0, 0, 0, 0, 0, 0, 1, 0, 0],\\\n",
    "[0, 0, 0, 0, 0, 0, 0, 1, 0, 0, 0, 0, 0, 0, 0, 0, 0, 1, 0, 0],\\\n",
    "[0, 0, 0, 0, 0, 0, 0, 1, 0, 0, 0, 0, 0, 0, 0, 0, 0, 1, 0, 0],\\\n",
    "[0, 0, 0, 0, 0, 0, 0, 1, 0, 0, 0, 0, 0, 0, 0, 0, 0, 1, 0, 0],\\\n",
    "[0, 0, 0, 0, 1, 1, 0, 1, 0, 0, 0, 0, 0, 0, 0, 0, 0, 0, 0, 0],\\\n",
    "[0, 0, 0, 0, 1, 0, 0, 0, 0, 0, 0, 0, 0, 0, 0, 0, 0, 0, 0, 0],\\\n",
    "[0, 0, 0, 0, 1, 0, 0, 0, 0, 0, 0, 0, 0, 0, 0, 1, 0, 0, 0, 0],\\\n",
    "[0, 0, 0, 0, 1, 0, 0, 0, 0, 0, 0, 0, 0, 0, 0, 1, 0, 0, 0, 0],\\\n",
    "[0, 0, 0, 0, 0, 0, 0, 0, 0, 0, 0, 0, 0, 0, 0, 1, 0, 0, 0, 0],\\\n",
    "[0, 0, 0, 0, 1, 1, 1, 1, 0, 0, 0, 0, 0, 1, 1, 1, 1, 1, 0, 0],\\\n",
    "[0, 0, 0, 0, 0, 0, 0, 0, 0, 0, 0, 0, 0, 0, 0, 0, 0, 0, 0, 0],\\\n",
    "[0, 0, 0, 0, 0, 0, 0, 0, 0, 0, 0, 0, 0, 0, 0, 0, 0, 0, 0, 0],\\\n",
    "]"
   ]
  },
  {
   "cell_type": "code",
   "execution_count": 7,
   "metadata": {},
   "outputs": [
    {
     "data": {
      "text/plain": [
       "<matplotlib.image.AxesImage at 0x7fa95d858cf8>"
      ]
     },
     "execution_count": 7,
     "metadata": {},
     "output_type": "execute_result"
    },
    {
     "data": {
      "image/png": "[encoded data removed]",
      "text/plain": [
       "<Figure size 432x288 with 1 Axes>"
      ]
     },
     "metadata": {
      "needs_background": "light"
     },
     "output_type": "display_data"
    }
   ],
   "source": [
    "global_map = np.array(global_map)\n",
    "height, width = global_map.shape\n",
    "origin = [int(width/2.), int(height/2.)]\n",
    "global_map[int(origin[1])][int(origin[0])] = 5\n",
    "plt.imshow(global_map)"
   ]
  },
  {
   "cell_type": "code",
   "execution_count": 20,
   "metadata": {},
   "outputs": [],
   "source": [
    "def robot_move(origin_map, origin, dx, dy):\n",
    "    new_map = origin_map.copy()\n",
    "    new_pos = [int(origin[0] + dx), int(origin[1] + dy)]\n",
    "    new_map[new_pos[1]][new_pos[0]] = 10\n",
    "    plt.imshow(new_map)\n",
    "    return new_pos\n",
    "\n",
    "def plot_local_map(origin_map, origin, border):\n",
    "    local_map = origin_map.copy()\n",
    "    local_map[origin[1]][origin[0]] = 10\n",
    "    local_map = local_map[(origin[1]-border):(origin[1]+border),(origin[0]-border):(origin[0]+border)]\n",
    "    plt.imshow(local_map)"
   ]
  },
  {
   "cell_type": "code",
   "execution_count": 21,
   "metadata": {
    "scrolled": true
   },
   "outputs": [
    {
     "data": {
      "image/png": "[encoded data removed]",
      "text/plain": [
       "<Figure size 432x288 with 1 Axes>"
      ]
     },
     "metadata": {
      "needs_background": "light"
     },
     "output_type": "display_data"
    }
   ],
   "source": [
    "dx = 4\n",
    "dy = 1\n",
    "new_origin = robot_move(global_map, origin, dx, dy)"
   ]
  },
  {
   "cell_type": "code",
   "execution_count": 22,
   "metadata": {},
   "outputs": [
    {
     "data": {
      "image/png": "[encoded data removed]",
      "text/plain": [
       "<Figure size 432x288 with 1 Axes>"
      ]
     },
     "metadata": {
      "needs_background": "light"
     },
     "output_type": "display_data"
    }
   ],
   "source": [
    "plot_local_map(global_map, new_origin, 6)"
   ]
  },
  {
   "cell_type": "code",
   "execution_count": 26,
   "metadata": {},
   "outputs": [
    {
     "name": "stdout",
     "output_type": "stream",
     "text": [
      "[10, 7] [14, 8] 4 1\n",
      "[[ 1.  0. -4.]\n",
      " [ 0.  1. -1.]]\n",
      "[[ 6.123234e-17 -1.000000e+00  1.700000e+01]\n",
      " [ 1.000000e+00  6.123234e-17 -3.000000e+00]]\n"
     ]
    },
    {
     "data": {
      "text/plain": [
       "<matplotlib.image.AxesImage at 0x7fa95d538828>"
      ]
     },
     "execution_count": 26,
     "metadata": {},
     "output_type": "execute_result"
    },
    {
     "data": {
      "image/png": "[encoded data removed]",
      "text/plain": [
       "<Figure size 432x288 with 1 Axes>"
      ]
     },
     "metadata": {
      "needs_background": "light"
     },
     "output_type": "display_data"
    }
   ],
   "source": [
    "new_map = global_map.copy()\n",
    "new_map = new_map.astype(np.uint8)\n",
    "print(origin, new_origin, dx, dy)\n",
    "translation_mat = np.float32([[1,0,-dx],[0,1,-dy]])\n",
    "rotation_mat = cv2.getRotationMatrix2D(center=(origin[0], origin[1]), angle=-90, scale=1)\n",
    "print(translation_mat)\n",
    "print(rotation_mat)\n",
    "new_map = cv2.warpAffine(new_map, translation_mat, (0, 0))\n",
    "new_map = cv2.warpAffine(new_map, rotation_mat, (0, 0))\n",
    "#dst = cv2.warpAffine(img,M,(width,height))\n",
    "plt.imshow(new_map)"
   ]
  },
  {
   "cell_type": "code",
   "execution_count": 30,
   "metadata": {},
   "outputs": [
    {
     "data": {
      "image/png": "[encoded data removed]",
      "text/plain": [
       "<Figure size 432x288 with 1 Axes>"
      ]
     },
     "metadata": {
      "needs_background": "light"
     },
     "output_type": "display_data"
    }
   ],
   "source": [
    "plot_local_map(new_map, origin, 6)"
   ]
  },
  {
   "cell_type": "code",
   "execution_count": null,
   "metadata": {},
   "outputs": [],
   "source": []
  },
  {
   "cell_type": "code",
   "execution_count": null,
   "metadata": {},
   "outputs": [],
   "source": []
  }
 ],
 "metadata": {
  "kernelspec": {
   "display_name": "Python 3",
   "language": "python",
   "name": "python3"
  },
  "language_info": {
   "codemirror_mode": {
    "name": "ipython",
    "version": 3
   },
   "file_extension": ".py",
   "mimetype": "text/x-python",
   "name": "python",
   "nbconvert_exporter": "python",
   "pygments_lexer": "ipython3",
   "version": "3.5.2"
  }
 },
 "nbformat": 4,
 "nbformat_minor": 2
}
