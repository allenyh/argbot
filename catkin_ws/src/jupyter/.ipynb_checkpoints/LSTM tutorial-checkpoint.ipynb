{
 "cells": [
  {
   "cell_type": "code",
   "execution_count": 1,
   "metadata": {},
   "outputs": [
    {
     "data": {
      "text/plain": [
       "<torch._C.Generator at 0x7f20f4018dd0>"
      ]
     },
     "execution_count": 1,
     "metadata": {},
     "output_type": "execute_result"
    }
   ],
   "source": [
    "import torch\n",
    "import torch.nn as nn\n",
    "import torch.nn.functional as F\n",
    "import torch.optim as optim\n",
    "\n",
    "torch.manual_seed(1)"
   ]
  },
  {
   "cell_type": "code",
   "execution_count": 66,
   "metadata": {},
   "outputs": [
    {
     "name": "stdout",
     "output_type": "stream",
     "text": [
      "Input shape:  torch.Size([1, 2])\n",
      "Input shape:  torch.Size([1, 1, 2])\n",
      "out:  tensor([[[-0.3508, -0.0305, -0.0209]]], grad_fn=<CatBackward>) \n",
      " torch.Size([1, 1, 3]) \n",
      "\n",
      "hidden (tensor([[[-0.3508, -0.0305, -0.0209]]], grad_fn=<ViewBackward>), tensor([[[-0.6717, -0.0446, -0.0398]]], grad_fn=<ViewBackward>)) \n",
      " torch.Size([1, 1, 3]) \n",
      " torch.Size([1, 1, 3]) \n",
      "\n",
      "6\n",
      "Input shape:  torch.Size([6, 1, 2])\n",
      "out:  tensor([[[-0.3693,  0.3967, -0.1858]],\n",
      "\n",
      "        [[-0.1375,  0.3370, -0.2531]],\n",
      "\n",
      "        [[-0.3246, -0.0412, -0.0182]],\n",
      "\n",
      "        [[-0.3911, -0.1074, -0.0485]],\n",
      "\n",
      "        [[-0.3773, -0.0558, -0.0146]],\n",
      "\n",
      "        [[-0.3753, -0.0224,  0.0149]]], grad_fn=<CatBackward>) \n",
      " torch.Size([6, 1, 3]) \n",
      "\n",
      "hidden (tensor([[[-0.3753, -0.0224,  0.0149]]], grad_fn=<ViewBackward>), tensor([[[-0.7461, -0.0327,  0.0286]]], grad_fn=<ViewBackward>)) \n",
      " torch.Size([1, 1, 3]) \n",
      " torch.Size([1, 1, 3])\n"
     ]
    }
   ],
   "source": [
    "IN_DIM = 2\n",
    "OUT_DIM = 3\n",
    "SEQ_NUM = 6\n",
    "\n",
    "lstm = nn.LSTM(IN_DIM, OUT_DIM)  # Input dim is 3, output dim is 3\n",
    "inputs = [torch.randn(1, IN_DIM) for _ in range(SEQ_NUM)]  # make a sequence of length 5\n",
    "\n",
    "# initialize the hidden state.\n",
    "# (h_t, c_t)\n",
    "hidden = (torch.randn(1, 1, OUT_DIM),\n",
    "          torch.randn(1, 1, OUT_DIM))\n",
    "print('Input shape: ', inputs[0].shape)\n",
    "print('Input shape: ', inputs[0].view(1, 1, -1).shape)\n",
    "\n",
    "for i in inputs:\n",
    "    # Step through the sequence one element at a time.\n",
    "    # after each step, hidden contains the hidden state.\n",
    "    # .view(1, 1, -1) is to add dimension to match lstm\n",
    "    out, hidden = lstm(i.view(1, 1, -1), hidden)\n",
    "print('out: ', out, '\\n', out.shape, '\\n')\n",
    "print('hidden', hidden, '\\n', hidden[0].shape, '\\n', hidden[1].shape, '\\n')\n",
    "# alternatively, we can do the entire sequence all at once.\n",
    "# the first value returned by LSTM is all of the hidden states throughout\n",
    "# the sequence. the second is just the most recent hidden state\n",
    "# (compare the last slice of \"out\" with \"hidden\" below, they are the same)\n",
    "# The reason for this is that:\n",
    "# \"out\" will give you access to all hidden states in the sequence\n",
    "# \"hidden\" will allow you to continue the sequence and backpropagate,\n",
    "# by passing it as an argument  to the lstm at a later time\n",
    "# Add the extra 2nd dimension\n",
    "print(len(inputs))\n",
    "inputs = torch.cat(inputs).view(len(inputs), 1, -1)\n",
    "print('Input shape: ', inputs.shape)\n",
    "hidden = (torch.randn(1, 1, OUT_DIM), \n",
    "          torch.randn(1, 1, OUT_DIM))  # clean out hidden state\n",
    "out, hidden = lstm(inputs, hidden)\n",
    "print('out: ', out, '\\n', out.shape, '\\n')\n",
    "print('hidden', hidden, '\\n', hidden[0].shape, '\\n', hidden[1].shape)"
   ]
  },
  {
   "cell_type": "code",
   "execution_count": null,
   "metadata": {},
   "outputs": [],
   "source": []
  }
 ],
 "metadata": {
  "kernelspec": {
   "display_name": "Python 3",
   "language": "python",
   "name": "python3"
  },
  "language_info": {
   "codemirror_mode": {
    "name": "ipython",
    "version": 3
   },
   "file_extension": ".py",
   "mimetype": "text/x-python",
   "name": "python",
   "nbconvert_exporter": "python",
   "pygments_lexer": "ipython3",
   "version": "3.5.2"
  }
 },
 "nbformat": 4,
 "nbformat_minor": 2
}
